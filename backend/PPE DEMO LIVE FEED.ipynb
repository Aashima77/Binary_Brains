{
 "cells": [
  {
   "cell_type": "code",
   "execution_count": 1,
   "id": "1a7c055a-bcf4-4709-9150-753178a37dee",
   "metadata": {},
   "outputs": [],
   "source": [
    "import cv2\n",
    "import os\n",
    "import time\n",
    "from datetime import datetime\n",
    "from ultralytics import YOLO\n"
   ]
  },
  {
   "cell_type": "code",
   "execution_count": 2,
   "id": "06703c31-6d08-4cc4-add5-38bc330f4cc7",
   "metadata": {},
   "outputs": [],
   "source": [
    "model_path = \"best.pt\" \n",
    "log_file = \"violation_logs.csv\"\n",
    "screenshot_folder = \"violation_screenshots\"\n",
    "log_cooldown = 300  # seconds (5 minutes)\n",
    "\n",
    "last_logged = {}\n",
    "\n",
    "os.makedirs(screenshot_folder, exist_ok=True)\n",
    "if not os.path.exists(log_file):\n",
    "    with open(log_file, \"w\") as f:\n",
    "        f.write(\"timestamp,violation_type,total_people\\n\")\n",
    "\n",
    "\n",
    "model = YOLO(model_path)\n"
   ]
  },
  {
   "cell_type": "code",
   "execution_count": 3,
   "id": "1bdc8e58-8037-4a3f-9dd8-418c6ec29bc2",
   "metadata": {},
   "outputs": [
    {
     "data": {
      "text/plain": [
       "True"
      ]
     },
     "execution_count": 3,
     "metadata": {},
     "output_type": "execute_result"
    }
   ],
   "source": [
    "cap = cv2.VideoCapture(0)\n",
    "cap.set(cv2.CAP_PROP_FRAME_WIDTH, 640)\n",
    "cap.set(cv2.CAP_PROP_FRAME_HEIGHT, 480)\n"
   ]
  },
  {
   "cell_type": "code",
   "execution_count": 4,
   "id": "bfe4a6e4-5d51-4fac-bdd9-cadc91f82d5d",
   "metadata": {},
   "outputs": [
    {
     "name": "stdout",
     "output_type": "stream",
     "text": [
      "[LOGGED] NO-Mask at 2025-07-16_14-47-06\n",
      "[LOGGED] NO-Hardhat at 2025-07-16_14-47-06\n",
      "[LOGGED] NO-Safety Vest at 2025-07-16_14-47-06\n"
     ]
    }
   ],
   "source": [
    "while True:\n",
    "    ret, frame = cap.read()\n",
    "    if not ret:\n",
    "        break\n",
    "\n",
    "    frame_small = cv2.resize(frame, (640, 480))\n",
    "    annotated_frame = frame_small.copy()\n",
    "\n",
    "    try:\n",
    "        results = model.predict(source=frame_small, conf=0.5, stream=True, verbose=False)\n",
    "        for r in results:\n",
    "            boxes = r.boxes\n",
    "            class_ids = boxes.cls.cpu().numpy().astype(int)\n",
    "            confs = boxes.conf.cpu().numpy()\n",
    "            xyxys = boxes.xyxy.cpu().numpy()\n",
    "            names = r.names\n",
    "\n",
    "            total_people = 0\n",
    "\n",
    "            for box, conf, class_id in zip(xyxys, confs, class_ids):\n",
    "                label = names[class_id]\n",
    "                x1, y1, x2, y2 = map(int, box)\n",
    "\n",
    "    \n",
    "                if \"person\" in label.lower():\n",
    "                    total_people += 1\n",
    "\n",
    "    \n",
    "                if \"no\" in label.lower():\n",
    "                    now = datetime.now()\n",
    "                    violation_type = label\n",
    "                    last_time = last_logged.get(violation_type, None)\n",
    "\n",
    "            \n",
    "                    cv2.rectangle(annotated_frame, (x1, y1), (x2, y2), (0, 0, 255), 2)\n",
    "                    cv2.putText(annotated_frame, violation_type, (x1, y1 - 10),\n",
    "                                cv2.FONT_HERSHEY_SIMPLEX, 0.6, (0, 0, 255), 2)\n",
    "\n",
    "                \n",
    "                    if last_time is None or (now - last_time).total_seconds() > log_cooldown:\n",
    "                        timestamp_str = now.strftime(\"%Y-%m-%d_%H-%M-%S\")\n",
    "                        screenshot_path = os.path.join(\n",
    "                            screenshot_folder, f\"{timestamp_str}_{violation_type}.jpg\"\n",
    "                        )\n",
    "                        cv2.imwrite(screenshot_path, annotated_frame)\n",
    "\n",
    "                        with open(log_file, \"a\") as f:\n",
    "                            log_entry = f\"{now.strftime('%Y-%m-%d %H:%M:%S')},{violation_type},{total_people}\\n\"\n",
    "                            f.write(log_entry)\n",
    "\n",
    "                        print(f\"[LOGGED] {violation_type} at {timestamp_str}\")\n",
    "                        last_logged[violation_type] = now\n",
    "\n",
    "                else:\n",
    "          \n",
    "                    cv2.rectangle(annotated_frame, (x1, y1), (x2, y2), (0, 255, 0), 2)\n",
    "                    cv2.putText(annotated_frame, label, (x1, y1 - 10),\n",
    "                                cv2.FONT_HERSHEY_SIMPLEX, 0.6, (0, 255, 0), 2)\n",
    "\n",
    "        cv2.imshow(\"YOLOv8 PPE Detection\", annotated_frame)\n",
    "\n",
    "    except Exception as e:\n",
    "        print(f\"[ERROR] {e}\")\n",
    "        break\n",
    "\n",
    "    if cv2.waitKey(1) & 0xFF == ord(\"q\"):\n",
    "        break\n",
    "\n",
    "    time.sleep(0.1)\n",
    "\n",
    "cap.release()\n",
    "cv2.destroyAllWindows()\n"
   ]
  },
  {
   "cell_type": "code",
   "execution_count": null,
   "id": "8bf88f86-6f76-494b-9fc2-06a979d0aebe",
   "metadata": {},
   "outputs": [],
   "source": []
  }
 ],
 "metadata": {
  "kernelspec": {
   "display_name": "Python [conda env:base] *",
   "language": "python",
   "name": "conda-base-py"
  },
  "language_info": {
   "codemirror_mode": {
    "name": "ipython",
    "version": 3
   },
   "file_extension": ".py",
   "mimetype": "text/x-python",
   "name": "python",
   "nbconvert_exporter": "python",
   "pygments_lexer": "ipython3",
   "version": "3.13.5"
  }
 },
 "nbformat": 4,
 "nbformat_minor": 5
}

